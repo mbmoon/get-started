{
 "cells": [
  {
   "cell_type": "code",
   "execution_count": 2,
   "id": "1e4afbfe-565e-47ca-8d2e-7af736b14a5e",
   "metadata": {},
   "outputs": [
    {
     "name": "stdout",
     "output_type": "stream",
     "text": [
      "Collecting opencv-python\n",
      "  Obtaining dependency information for opencv-python from https://files.pythonhosted.org/packages/a1/f6/57de91ea40c670527cd47a6548bf2cbedc68cec57c041793b256356abad7/opencv_python-4.8.1.78-cp37-abi3-macosx_11_0_arm64.whl.metadata\n",
      "  Downloading opencv_python-4.8.1.78-cp37-abi3-macosx_11_0_arm64.whl.metadata (19 kB)\n",
      "Collecting numpy>=1.21.2 (from opencv-python)\n",
      "  Obtaining dependency information for numpy>=1.21.2 from https://files.pythonhosted.org/packages/35/21/9e150d654da358beb29fe216f339dc17f2b2ac13fff2a89669401a910550/numpy-1.26.0-cp311-cp311-macosx_11_0_arm64.whl.metadata\n",
      "  Downloading numpy-1.26.0-cp311-cp311-macosx_11_0_arm64.whl.metadata (99 kB)\n",
      "\u001b[2K     \u001b[90m━━━━━━━━━━━━━━━━━━━━━━━━━━━━━━━━━━━━━━━━\u001b[0m \u001b[32m99.7/99.7 kB\u001b[0m \u001b[31m1.2 MB/s\u001b[0m eta \u001b[36m0:00:00\u001b[0ma \u001b[36m0:00:01\u001b[0m\n",
      "\u001b[?25hDownloading opencv_python-4.8.1.78-cp37-abi3-macosx_11_0_arm64.whl (33.1 MB)\n",
      "\u001b[2K   \u001b[90m━━━━━━━━━━━━━━━━━━━━━━━━━━━━━━━━━━━━━━━━\u001b[0m \u001b[32m33.1/33.1 MB\u001b[0m \u001b[31m3.2 MB/s\u001b[0m eta \u001b[36m0:00:00\u001b[0m00:01\u001b[0m00:01\u001b[0m\n",
      "\u001b[?25hDownloading numpy-1.26.0-cp311-cp311-macosx_11_0_arm64.whl (14.0 MB)\n",
      "\u001b[2K   \u001b[90m━━━━━━━━━━━━━━━━━━━━━━━━━━━━━━━━━━━━━━━━\u001b[0m \u001b[32m14.0/14.0 MB\u001b[0m \u001b[31m4.1 MB/s\u001b[0m eta \u001b[36m0:00:00\u001b[0m00:01\u001b[0m00:01\u001b[0m\n",
      "\u001b[?25hInstalling collected packages: numpy, opencv-python\n",
      "Successfully installed numpy-1.26.0 opencv-python-4.8.1.78\n",
      "Note: you may need to restart the kernel to use updated packages.\n"
     ]
    }
   ],
   "source": [
    "pip install opencv-python"
   ]
  },
  {
   "cell_type": "code",
   "execution_count": 2,
   "id": "630dc814-d866-4987-83a8-af700cdf6cfa",
   "metadata": {},
   "outputs": [
    {
     "name": "stdout",
     "output_type": "stream",
     "text": [
      "PSNR: 33.65 dB\n"
     ]
    }
   ],
   "source": [
    "import cv2\n",
    "import numpy as np\n",
    "\n",
    "# Specify the path to your input image file\n",
    "input_image_path = '../../all_images/SS1/SS1.bmp'  # Replace with the path to your input image file\n",
    "\n",
    "# Specify the path to save the output JPEG image\n",
    "output_image_path = 'output_image.jpg'  # Replace with the desired output image path\n",
    "\n",
    "# Load the input image\n",
    "input_image = cv2.imread(input_image_path)\n",
    "\n",
    "# Check if the input image was successfully loaded\n",
    "if input_image is not None:\n",
    "    # Save the input image as JPEG\n",
    "    cv2.imwrite(output_image_path, input_image, [cv2.IMWRITE_JPEG_QUALITY, 40])  # Adjust the JPEG quality (0-100) as needed\n",
    "\n",
    "    # Load the saved JPEG image for PSNR calculation\n",
    "    output_image = cv2.imread(output_image_path)\n",
    "\n",
    "    # Calculate the PSNR\n",
    "    mse = np.mean((input_image - output_image) ** 2)\n",
    "    if mse == 0:\n",
    "        psnr = float('inf')\n",
    "    else:\n",
    "        max_pixel_value = 255.0\n",
    "        psnr = 20 * np.log10(max_pixel_value / np.sqrt(mse))\n",
    "\n",
    "    print(f'PSNR: {psnr:.2f} dB')\n",
    "\n",
    "else:\n",
    "    print('Input image not found or could not be loaded.')"
   ]
  },
  {
   "cell_type": "code",
   "execution_count": null,
   "id": "eade74b9-8789-473d-978a-e9b908ccdd12",
   "metadata": {},
   "outputs": [],
   "source": []
  }
 ],
 "metadata": {
  "kernelspec": {
   "display_name": "Python 3 (ipykernel)",
   "language": "python",
   "name": "python3"
  },
  "language_info": {
   "codemirror_mode": {
    "name": "ipython",
    "version": 3
   },
   "file_extension": ".py",
   "mimetype": "text/x-python",
   "name": "python",
   "nbconvert_exporter": "python",
   "pygments_lexer": "ipython3",
   "version": "3.11.5"
  }
 },
 "nbformat": 4,
 "nbformat_minor": 5
}
