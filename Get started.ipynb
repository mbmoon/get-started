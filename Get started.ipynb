{
 "cells": [
  {
   "cell_type": "markdown",
   "id": "11ef1623-b8fe-4a8d-91b3-079938570730",
   "metadata": {},
   "source": [
    "## Open image"
   ]
  },
  {
   "cell_type": "code",
   "execution_count": 1,
   "id": "eade74b9-8789-473d-978a-e9b908ccdd12",
   "metadata": {},
   "outputs": [],
   "source": [
    "import cv2\n",
    "\n",
    "# Specify the path to your image file\n",
    "image_path = '../../all_images/SS1/SS1.bmp'  # Replace with the path to your image file\n",
    "\n",
    "# Load the image using OpenCV\n",
    "image = cv2.imread(image_path)\n",
    "\n",
    "# Check if the image was successfully loaded\n",
    "if image is not None:\n",
    "    # Display the image\n",
    "    cv2.imshow('Image', image)\n",
    "\n",
    "    # Wait for a key press and then close the window\n",
    "    cv2.waitKey(0)\n",
    "    cv2.destroyAllWindows()\n",
    "    cv2.waitKey(1)\n",
    "else:\n",
    "    print('Image not found or could not be loaded.')"
   ]
  },
  {
   "cell_type": "markdown",
   "id": "90b15e2b-c98f-4f7f-874d-0931c25ff82b",
   "metadata": {},
   "source": [
    "## Transform to JPEG"
   ]
  },
  {
   "cell_type": "code",
   "execution_count": 2,
   "id": "630dc814-d866-4987-83a8-af700cdf6cfa",
   "metadata": {},
   "outputs": [
    {
     "name": "stdout",
     "output_type": "stream",
     "text": [
      "PSNR: 33.65 dB\n"
     ]
    }
   ],
   "source": [
    "import cv2\n",
    "import numpy as np\n",
    "\n",
    "# Specify the path to your input image file\n",
    "input_image_path = '../../all_images/SS1/SS1.bmp'  # Replace with the path to your input image file\n",
    "\n",
    "# Specify the path to save the output JPEG image\n",
    "output_image_path = 'output_image.jpg'  # Replace with the desired output image path\n",
    "\n",
    "# Load the input image\n",
    "input_image = cv2.imread(input_image_path)\n",
    "\n",
    "# Check if the input image was successfully loaded\n",
    "if input_image is not None:\n",
    "    # Save the input image as JPEG\n",
    "    cv2.imwrite(output_image_path, input_image, [cv2.IMWRITE_JPEG_QUALITY, 40])  # Adjust the JPEG quality (0-100) as needed\n",
    "\n",
    "    # Load the saved JPEG image for PSNR calculation\n",
    "    output_image = cv2.imread(output_image_path)\n",
    "\n",
    "    # Calculate the PSNR\n",
    "    mse = np.mean((input_image - output_image) ** 2)\n",
    "    if mse == 0:\n",
    "        psnr = float('inf')\n",
    "    else:\n",
    "        max_pixel_value = 255.0\n",
    "        psnr = 20 * np.log10(max_pixel_value / np.sqrt(mse))\n",
    "\n",
    "    print(f'PSNR: {psnr:.2f} dB')\n",
    "\n",
    "else:\n",
    "    print('Input image not found or could not be loaded.')"
   ]
  },
  {
   "cell_type": "markdown",
   "id": "960bc30c-f432-48fe-bfa9-f28cd26faf3d",
   "metadata": {},
   "source": [
    "## PSNR Compare etalon with image with noise"
   ]
  },
  {
   "cell_type": "code",
   "execution_count": 4,
   "id": "62539f0a-3419-499c-af59-c1f92c3f71f5",
   "metadata": {},
   "outputs": [
    {
     "name": "stdout",
     "output_type": "stream",
     "text": [
      "PSNR: 33.82 dB\n"
     ]
    }
   ],
   "source": [
    "import cv2\n",
    "import numpy as np\n",
    "\n",
    "# Specify the path to your input image file\n",
    "etalon_image_path = '../../all_images/SS1/SS1.bmp'  # Replace with the path to your input image file\n",
    "\n",
    "# Specify the path to save the output JPEG image\n",
    "image_to_compare_path = '../../all_images/SS1/SS1_PSNR_33.8.bmp'  # Replace with the desired output image path\n",
    "\n",
    "# Load the input image\n",
    "input_image = cv2.imread(etalon_image_path)\n",
    "\n",
    "# Check if the input image was successfully loaded\n",
    "if input_image is not None:\n",
    "    # Load the saved JPEG image for PSNR calculation\n",
    "    output_image = cv2.imread(image_to_compare_path)\n",
    "\n",
    "    # Calculate the PSNR\n",
    "    psnr = cv2.PSNR(input_image, output_image)\n",
    "\n",
    "    # Calculate the PSNR\n",
    "    psnr = cv2.PSNR(input_image, output_image)\n",
    "\n",
    "    print(f'PSNR: {psnr:.2f} dB')\n",
    "\n",
    "else:\n",
    "    print('Input image not found or could not be loaded.')"
   ]
  },
  {
   "cell_type": "markdown",
   "id": "41b280d4-3a0c-49f9-bcd6-d6f2955431c6",
   "metadata": {},
   "source": [
    "## SSIM Test"
   ]
  },
  {
   "cell_type": "code",
   "execution_count": 3,
   "id": "c67a7ccf-b57f-47e3-9b51-5f878fa57c6b",
   "metadata": {
    "scrolled": true
   },
   "outputs": [
    {
     "name": "stdout",
     "output_type": "stream",
     "text": [
      "Image similarity 0.9586403772705855\n"
     ]
    }
   ],
   "source": [
    "from skimage.metrics import structural_similarity\n",
    "import cv2\n",
    "import numpy as np\n",
    "\n",
    "# Specify the path to your input image file\n",
    "etalon_image_path = '../../all_images/SS1/SS1.bmp'  # Replace with the path to your input image file\n",
    "\n",
    "# Specify the path to save the output JPEG image\n",
    "image_to_compare_path = '../../all_images/SS1/SS1_PSNR_33.8.bmp'  # Replace with the desired output image path\n",
    "\n",
    "\n",
    "before = cv2.imread(etalon_image_path)\n",
    "after = cv2.imread(image_to_compare_path)\n",
    "\n",
    "# Convert images to grayscale\n",
    "before_gray = cv2.cvtColor(before, cv2.COLOR_BGR2GRAY)\n",
    "after_gray = cv2.cvtColor(after, cv2.COLOR_BGR2GRAY)\n",
    "\n",
    "# Compute SSIM between two images\n",
    "(score, diff) = structural_similarity(before_gray, after_gray, full=True)\n",
    "print(\"Image similarity\", score)\n",
    "\n",
    "\n",
    "# # The diff image contains the actual image differences between the two images\n",
    "# # and is represented as a floating point data type in the range [0,1] \n",
    "# # so we must convert the array to 8-bit unsigned integers in the range\n",
    "# # [0,255] before we can use it with OpenCV\n",
    "# diff = (diff * 255).astype(\"uint8\")\n",
    "\n",
    "# # Threshold the difference image, followed by finding contours to\n",
    "# # obtain the regions of the two input images that differ\n",
    "# thresh = cv2.threshold(diff, 0, 255, cv2.THRESH_BINARY_INV | cv2.THRESH_OTSU)[1]\n",
    "# contours = cv2.findContours(thresh.copy(), cv2.RETR_EXTERNAL, cv2.CHAIN_APPROX_SIMPLE)\n",
    "# contours = contours[0] if len(contours) == 2 else contours[1]\n",
    "\n",
    "# mask = np.zeros(before.shape, dtype='uint8')\n",
    "# filled_after = after.copy()\n",
    "\n",
    "# for c in contours:\n",
    "#     area = cv2.contourArea(c)\n",
    "#     if area > 40:\n",
    "#         x,y,w,h = cv2.boundingRect(c)\n",
    "#         cv2.rectangle(before, (x, y), (x + w, y + h), (36,255,12), 2)\n",
    "#         cv2.rectangle(after, (x, y), (x + w, y + h), (36,255,12), 2)\n",
    "#         cv2.drawContours(mask, [c], 0, (0,255,0), -1)\n",
    "#         cv2.drawContours(filled_after, [c], 0, (0,255,0), -1)\n",
    "\n",
    "# cv2.imshow('before', before)\n",
    "# cv2.imshow('after', after)\n",
    "# cv2.imshow('diff',diff)\n",
    "# cv2.imshow('mask',mask)\n",
    "# cv2.imshow('filled after',filled_after)\n",
    "# cv2.waitKey(0)\n",
    "# cv2.destroyAllWindows()\n",
    "# cv2.waitKey(1)"
   ]
  },
  {
   "cell_type": "code",
   "execution_count": null,
   "id": "3ae11900-063f-4a1e-ba73-bb09e6f269d2",
   "metadata": {},
   "outputs": [],
   "source": []
  }
 ],
 "metadata": {
  "kernelspec": {
   "display_name": "Python 3 (ipykernel)",
   "language": "python",
   "name": "python3"
  },
  "language_info": {
   "codemirror_mode": {
    "name": "ipython",
    "version": 3
   },
   "file_extension": ".py",
   "mimetype": "text/x-python",
   "name": "python",
   "nbconvert_exporter": "python",
   "pygments_lexer": "ipython3",
   "version": "3.9.6"
  }
 },
 "nbformat": 4,
 "nbformat_minor": 5
}
